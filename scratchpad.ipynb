{
 "cells": [
  {
   "cell_type": "markdown",
   "metadata": {},
   "source": [
    "## Gesture detection"
   ]
  },
  {
   "cell_type": "code",
   "execution_count": null,
   "metadata": {},
   "outputs": [],
   "source": [
    "import cv2\n",
    "import numpy as np\n",
    "from ultralytics import YOLO\n",
    "\n",
    "# Load the pre-trained YOLO gesture detection model\n",
    "model = YOLO(r\"F:\\CODE\\ElderWatch\\models\\YOLOv10n_gestures.pt\")\n",
    "\n",
    "# Open the video capture\n",
    "cap = cv2.VideoCapture(0)  # Use 0 for webcam, or provide a video file path\n",
    "\n",
    "while cap.isOpened():\n",
    "    success, frame = cap.read()\n",
    "    if not success:\n",
    "        break\n",
    "    \n",
    "    # Run YOLOv8 inference on the frame\n",
    "    results = model(frame)\n",
    "    \n",
    "    # Visualize the results on the frame\n",
    "    annotated_frame = results[0].plot()\n",
    "    \n",
    "    # Display the annotated frame\n",
    "    cv2.imshow(\"Gesture Detection\", annotated_frame)\n",
    "    \n",
    "    # Break the loop if 'q' is pressed\n",
    "    if cv2.waitKey(1) & 0xFF == ord(\"q\"):\n",
    "        break\n",
    "\n",
    "# Release the video capture object and close the display window\n",
    "cap.release()\n",
    "cv2.destroyAllWindows()\n"
   ]
  },
  {
   "cell_type": "code",
   "execution_count": null,
   "metadata": {},
   "outputs": [],
   "source": [
    "import cv2\n",
    "import numpy as np\n",
    "from ultralytics import YOLO\n",
    "\n",
    "# Load the pre-trained YOLO gesture detection model\n",
    "model = YOLO(r\"F:\\\\CODE\\\\ElderWatch\\\\models\\\\YOLOv10n_gestures.pt\")\n",
    "\n",
    "# Open the video capture (replace 0 with the path to the local video file)\n",
    "video_path = r\"F:\\\\CODE\\\\ElderWatch\\\\videos\\\\sample_video.mp4\"  # Replace with your local video file path\n",
    "cap = cv2.VideoCapture(video_path)\n",
    "\n",
    "while cap.isOpened():\n",
    "    success, frame = cap.read()\n",
    "    if not success:\n",
    "        break\n",
    "    \n",
    "    # Run YOLOv8 inference on the frame\n",
    "    results = model(frame)\n",
    "    \n",
    "    # Visualize the results on the frame\n",
    "    annotated_frame = results[0].plot()\n",
    "    \n",
    "    # Display the annotated frame\n",
    "    cv2.imshow(\"Gesture Detection\", annotated_frame)\n",
    "    \n",
    "    # Break the loop if 'q' is pressed\n",
    "    if cv2.waitKey(1) & 0xFF == ord(\"q\"):\n",
    "        break\n",
    "\n",
    "# Release the video capture object and close the display window\n",
    "cap.release()\n",
    "cv2.destroyAllWindows()"
   ]
  }
 ],
 "metadata": {
  "kernelspec": {
   "display_name": "elderwatch",
   "language": "python",
   "name": "python3"
  },
  "language_info": {
   "codemirror_mode": {
    "name": "ipython",
    "version": 3
   },
   "file_extension": ".py",
   "mimetype": "text/x-python",
   "name": "python",
   "nbconvert_exporter": "python",
   "pygments_lexer": "ipython3",
   "version": "3.11.11"
  }
 },
 "nbformat": 4,
 "nbformat_minor": 2
}
